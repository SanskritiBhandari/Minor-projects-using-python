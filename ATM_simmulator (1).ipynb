{
 "cells": [
  {
   "cell_type": "code",
   "execution_count": 1,
   "id": "7fb0d0e5-d309-4d16-a02f-3d8fe4978df9",
   "metadata": {},
   "outputs": [
    {
     "name": "stdin",
     "output_type": "stream",
     "text": [
      "Enter Amount to deposit: 60000\n",
      "Do You want to withdraw amount if yes enter 'Y' Or no for 'N': Y\n",
      "Enter Amount to withdraw: 600\n"
     ]
    },
    {
     "name": "stdout",
     "output_type": "stream",
     "text": [
      "Your Remaining balance is: 59400\n",
      "Successfully withdrawn amount: 600\n"
     ]
    }
   ],
   "source": [
    "# minor project atm simmulator\n",
    "def addAmount():\n",
    "        deposit = int(input(\"Enter Amount to deposit:\"))\n",
    "        choice = input(\"Do You want to withdraw amount if yes enter 'Y' Or no for 'N':\")\n",
    "        if(choice=='Y'):\n",
    "            withdrawn = int(input(\"Enter Amount to withdraw:\"))\n",
    "            AIM(deposit,withdrawn)\n",
    "        else:\n",
    "            print(\"exited !!!\") \n",
    "            return;\n",
    "\n",
    "def AIM(deposit,withdrawn) :\n",
    "    if withdrawn >=500:\n",
    "        if withdrawn<=deposit :\n",
    "            amount = deposit - withdrawn\n",
    "            print(\"Your Remaining balance is:\",amount)\n",
    "            print(\"Successfully withdrawn amount:\",withdrawn)\n",
    "        else:\n",
    "            print(\"Insufficient Balance !!!\")\n",
    "    else:\n",
    "        print(\"You withdrawn amount is less than 500 !!!\")\n",
    "\n",
    "addAmount()"
   ]
  },
  {
   "cell_type": "code",
   "execution_count": null,
   "id": "1e4bf8ee-79a6-45bd-90b4-0ad8f6c08823",
   "metadata": {},
   "outputs": [],
   "source": []
  }
 ],
 "metadata": {
  "kernelspec": {
   "display_name": "Python 3 (ipykernel)",
   "language": "python",
   "name": "python3"
  },
  "language_info": {
   "codemirror_mode": {
    "name": "ipython",
    "version": 3
   },
   "file_extension": ".py",
   "mimetype": "text/x-python",
   "name": "python",
   "nbconvert_exporter": "python",
   "pygments_lexer": "ipython3",
   "version": "3.13.5"
  }
 },
 "nbformat": 4,
 "nbformat_minor": 5
}
