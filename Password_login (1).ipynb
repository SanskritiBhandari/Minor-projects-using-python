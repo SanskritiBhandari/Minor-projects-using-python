{
 "cells": [
  {
   "cell_type": "code",
   "execution_count": 1,
   "id": "257a86ef-ef55-42b5-9b3d-b8fdfa99b732",
   "metadata": {},
   "outputs": [
    {
     "name": "stdout",
     "output_type": "stream",
     "text": [
      "Hello user\n"
     ]
    },
    {
     "name": "stdin",
     "output_type": "stream",
     "text": [
      "Enter password jsfhh\n"
     ]
    },
    {
     "name": "stdout",
     "output_type": "stream",
     "text": [
      "Wrong password:2 attempts left\n"
     ]
    },
    {
     "name": "stdin",
     "output_type": "stream",
     "text": [
      "Enter password jhdf\n"
     ]
    },
    {
     "name": "stdout",
     "output_type": "stream",
     "text": [
      "Wrong password:1 attempts left\n"
     ]
    },
    {
     "name": "stdin",
     "output_type": "stream",
     "text": [
      "Enter password jhfj\n"
     ]
    },
    {
     "name": "stdout",
     "output_type": "stream",
     "text": [
      "Wrong password:0 attempts left\n"
     ]
    }
   ],
   "source": [
    "# password login minor project\n",
    "def login():\n",
    "    password='Sanskriti@123'\n",
    "    attempts=3\n",
    "    print(\"Hello user\")\n",
    "    while attempts>0:\n",
    "        x=input(\"Enter password\")\n",
    "        if x==\"Sneha036\":\n",
    "            print(\"Login\")\n",
    "            break\n",
    "        else:\n",
    "            attempts-=1\n",
    "            print(f\"Wrong password:{attempts} attempts left\")\n",
    "login()"
   ]
  },
  {
   "cell_type": "code",
   "execution_count": null,
   "id": "5dcb2837-1f14-4932-a33f-93c9f0b2922b",
   "metadata": {},
   "outputs": [],
   "source": []
  }
 ],
 "metadata": {
  "kernelspec": {
   "display_name": "Python 3 (ipykernel)",
   "language": "python",
   "name": "python3"
  },
  "language_info": {
   "codemirror_mode": {
    "name": "ipython",
    "version": 3
   },
   "file_extension": ".py",
   "mimetype": "text/x-python",
   "name": "python",
   "nbconvert_exporter": "python",
   "pygments_lexer": "ipython3",
   "version": "3.13.5"
  }
 },
 "nbformat": 4,
 "nbformat_minor": 5
}
