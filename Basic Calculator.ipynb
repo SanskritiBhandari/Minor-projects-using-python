{
 "cells": [
  {
   "cell_type": "code",
   "execution_count": 1,
   "id": "b5a0df86-87da-4c90-b41a-8ef99b4dcf20",
   "metadata": {},
   "outputs": [
    {
     "name": "stdin",
     "output_type": "stream",
     "text": [
      "Enter A Number: 455\n",
      "Enter A Number: 345\n",
      "Enter your choice : 1 for Addition\n",
      "2 for SUbtraction\n",
      "3 for Multiplication\n",
      "4 for Modulus_func\n",
      "5 for Division\n",
      "6 for Float_div\n",
      " 1\n"
     ]
    },
    {
     "name": "stdout",
     "output_type": "stream",
     "text": [
      "800\n"
     ]
    }
   ],
   "source": [
    "n1 = int(input(\"Enter A Number:\"))\n",
    "n2 = int(input(\"Enter A Number:\"))\n",
    "choice = int(input(\"Enter your choice : 1 for Addition\\n2 for SUbtraction\\n3 for Multiplication\\n4 for Modulus_func\\n5 for Division\\n6 for Float_div\\n\"))\n",
    "if choice==1:\n",
    "    print(n1+n2)\n",
    "elif choice==2:\n",
    "    print(n1-n2)\n",
    "elif choice==3:\n",
    "    print(n1*n2)\n",
    "elif choice==4:\n",
    "    print(n1%n2)\n",
    "elif choice==5:\n",
    "    print(n1/n2)\n",
    "elif choice==6:\n",
    "    print(n1//n2)\n",
    "else:\n",
    "    print(\"Invalid choice !!! \")"
   ]
  },
  {
   "cell_type": "code",
   "execution_count": null,
   "id": "d8739772-1751-4dd9-909a-ed033398a5dc",
   "metadata": {},
   "outputs": [],
   "source": []
  }
 ],
 "metadata": {
  "kernelspec": {
   "display_name": "Python 3 (ipykernel)",
   "language": "python",
   "name": "python3"
  },
  "language_info": {
   "codemirror_mode": {
    "name": "ipython",
    "version": 3
   },
   "file_extension": ".py",
   "mimetype": "text/x-python",
   "name": "python",
   "nbconvert_exporter": "python",
   "pygments_lexer": "ipython3",
   "version": "3.13.5"
  }
 },
 "nbformat": 4,
 "nbformat_minor": 5
}
